{
 "cells": [
  {
   "cell_type": "code",
   "execution_count": 2,
   "id": "initial_id",
   "metadata": {
    "collapsed": true,
    "ExecuteTime": {
     "end_time": "2024-02-13T18:14:45.776542Z",
     "start_time": "2024-02-13T18:14:30.642639Z"
    }
   },
   "outputs": [],
   "source": [
    "import os\n",
    "\n",
    "import keras.src.models.cloning\n",
    "import pandas as pd"
   ]
  },
  {
   "cell_type": "code",
   "outputs": [],
   "source": [
    "import tensorflow as tf\n",
    "\n",
    "\n",
    "df_train= pd.read_csv(\"./data/train/AAPL.csv\", index_col='date')\n",
    "df_test= pd.read_csv(\"./data/test/AAPL.csv\", index_col='date')"
   ],
   "metadata": {
    "collapsed": false,
    "ExecuteTime": {
     "end_time": "2024-02-13T18:14:45.794662Z",
     "start_time": "2024-02-13T18:14:45.777723Z"
    }
   },
   "id": "a582d9cf474a9b2e",
   "execution_count": 3
  },
  {
   "cell_type": "code",
   "outputs": [
    {
     "data": {
      "text/plain": "             adjclose\ndate                 \n2011-01-03   9.964779\n2011-01-04  10.016784\n2011-01-05  10.098723\n2011-01-06  10.090557\n2011-01-07  10.162824",
      "text/html": "<div>\n<style scoped>\n    .dataframe tbody tr th:only-of-type {\n        vertical-align: middle;\n    }\n\n    .dataframe tbody tr th {\n        vertical-align: top;\n    }\n\n    .dataframe thead th {\n        text-align: right;\n    }\n</style>\n<table border=\"1\" class=\"dataframe\">\n  <thead>\n    <tr style=\"text-align: right;\">\n      <th></th>\n      <th>adjclose</th>\n    </tr>\n    <tr>\n      <th>date</th>\n      <th></th>\n    </tr>\n  </thead>\n  <tbody>\n    <tr>\n      <th>2011-01-03</th>\n      <td>9.964779</td>\n    </tr>\n    <tr>\n      <th>2011-01-04</th>\n      <td>10.016784</td>\n    </tr>\n    <tr>\n      <th>2011-01-05</th>\n      <td>10.098723</td>\n    </tr>\n    <tr>\n      <th>2011-01-06</th>\n      <td>10.090557</td>\n    </tr>\n    <tr>\n      <th>2011-01-07</th>\n      <td>10.162824</td>\n    </tr>\n  </tbody>\n</table>\n</div>"
     },
     "execution_count": 4,
     "metadata": {},
     "output_type": "execute_result"
    }
   ],
   "source": [
    "df_train.head()"
   ],
   "metadata": {
    "collapsed": false,
    "ExecuteTime": {
     "end_time": "2024-02-13T18:14:45.823142Z",
     "start_time": "2024-02-13T18:14:45.785795Z"
    }
   },
   "id": "94e28d6b1e2e711b",
   "execution_count": 4
  },
  {
   "cell_type": "code",
   "outputs": [],
   "source": [
    "y_train = df_train.iloc[60:,:].adjclose.values"
   ],
   "metadata": {
    "collapsed": false,
    "ExecuteTime": {
     "end_time": "2024-02-13T18:14:45.823878Z",
     "start_time": "2024-02-13T18:14:45.791303Z"
    }
   },
   "id": "9a1f3a447297e3c",
   "execution_count": 5
  },
  {
   "cell_type": "code",
   "outputs": [
    {
     "data": {
      "text/plain": "array([10.54106712, 10.53744221, 10.41800976, ..., 37.42086411,\n       37.44004059, 37.80189896])"
     },
     "execution_count": 6,
     "metadata": {},
     "output_type": "execute_result"
    }
   ],
   "source": [
    "y_train"
   ],
   "metadata": {
    "collapsed": false,
    "ExecuteTime": {
     "end_time": "2024-02-13T18:14:45.825288Z",
     "start_time": "2024-02-13T18:14:45.795623Z"
    }
   },
   "id": "cce2c77d63010619",
   "execution_count": 6
  },
  {
   "cell_type": "code",
   "outputs": [],
   "source": [
    "model  = tf.keras.models.Sequential([\n",
    "    tf.keras.layers.LSTM(100, return_sequences=True),\n",
    "    tf.keras.layers.Dropout(0.2),\n",
    "    tf.keras.layers.LSTM(100, return_sequences=True),\n",
    "    tf.keras.layers.Dropout(0.3),\n",
    "    tf.keras.layers.LSTM(50),\n",
    "    tf.keras.layers.Dense(1)\n",
    "])\n",
    "\n",
    "model.compile(optimizer='adam', loss='mean_squared_error')\n"
   ],
   "metadata": {
    "collapsed": false,
    "ExecuteTime": {
     "end_time": "2024-02-13T18:14:45.903777Z",
     "start_time": "2024-02-13T18:14:45.799031Z"
    }
   },
   "id": "bf30a9dcf5774573",
   "execution_count": 7
  },
  {
   "cell_type": "code",
   "outputs": [],
   "source": [
    "import numpy as np\n",
    "\n",
    "window_size = 60  # Example window size\n",
    "X_train = []\n",
    "y_train = []\n",
    "\n",
    "prices = df_train['adjclose'].values\n",
    "\n",
    "# Adjust the loop to ensure we don't go beyond the data we have\n",
    "for i in range(len(prices) - window_size):\n",
    "    X_train.append(prices[i:(i + window_size)])  # Past data\n",
    "    y_train.append(prices[i + window_size])      # Future data (the target)\n",
    "\n",
    "# Convert lists to numpy arrays\n",
    "X_train, y_train = np.array(X_train), np.array(y_train)\n",
    "\n",
    "# Reshape X_train for LSTM input\n",
    "X_train = np.reshape(X_train, (X_train.shape[0], X_train.shape[1], 1))"
   ],
   "metadata": {
    "collapsed": false,
    "ExecuteTime": {
     "end_time": "2024-02-13T18:14:45.904501Z",
     "start_time": "2024-02-13T18:14:45.850210Z"
    }
   },
   "id": "c3e469fd306f000f",
   "execution_count": 8
  },
  {
   "cell_type": "code",
   "outputs": [
    {
     "name": "stdout",
     "output_type": "stream",
     "text": [
      "Epoch 1/10\n",
      "61/61 [==============================] - 4s 44ms/step - loss: 426.7924\n",
      "Epoch 2/10\n",
      "61/61 [==============================] - 3s 43ms/step - loss: 274.0776\n",
      "Epoch 3/10\n",
      "61/61 [==============================] - 3s 51ms/step - loss: 212.3587\n",
      "Epoch 4/10\n",
      "61/61 [==============================] - 3s 52ms/step - loss: 173.3401\n",
      "Epoch 5/10\n",
      "61/61 [==============================] - 3s 44ms/step - loss: 148.7038\n",
      "Epoch 6/10\n",
      "61/61 [==============================] - 3s 45ms/step - loss: 133.6731\n",
      "Epoch 7/10\n",
      "61/61 [==============================] - 3s 44ms/step - loss: 125.0488\n",
      "Epoch 8/10\n",
      "61/61 [==============================] - 3s 45ms/step - loss: 120.4726\n",
      "Epoch 9/10\n",
      "61/61 [==============================] - 3s 43ms/step - loss: 118.0979\n",
      "Epoch 10/10\n",
      "61/61 [==============================] - 3s 43ms/step - loss: 116.8357\n"
     ]
    },
    {
     "data": {
      "text/plain": "<keras.src.callbacks.History at 0x16b6b3850>"
     },
     "execution_count": 9,
     "metadata": {},
     "output_type": "execute_result"
    }
   ],
   "source": [
    "callback = keras.callbacks.EarlyStopping(monitor='loss', patience=3)\n",
    "model.fit(X_train , y_train, epochs=10, batch_size=32, callbacks= [callback])\n"
   ],
   "metadata": {
    "collapsed": false,
    "ExecuteTime": {
     "end_time": "2024-02-13T18:15:15.178529Z",
     "start_time": "2024-02-13T18:14:45.853774Z"
    }
   },
   "id": "e496fe465b654cf3",
   "execution_count": 9
  },
  {
   "cell_type": "code",
   "outputs": [],
   "source": [
    "X_test = []\n",
    "y_test = []\n",
    "\n",
    "prices = df_test['adjclose'].values\n",
    "\n",
    "# Adjust the loop to ensure we don't go beyond the data we have\n",
    "for i in range(len(prices) - window_size):\n",
    "    X_test.append(prices[i:(i + window_size)])  # Past data\n",
    "    y_test.append(prices[i + window_size])      # Future data (the target)\n",
    "\n",
    "# Convert lists to numpy arrays\n",
    "X_test, y_test = np.array(X_test), np.array(y_test)\n",
    "\n",
    "# Reshape X_train for LSTM input\n",
    "X_test = X_test.reshape(X_test.shape[0], X_test.shape[1],1)"
   ],
   "metadata": {
    "collapsed": false,
    "ExecuteTime": {
     "end_time": "2024-02-13T18:15:15.179099Z",
     "start_time": "2024-02-13T18:15:15.156972Z"
    }
   },
   "id": "1af84afaeabd8ab5",
   "execution_count": 10
  },
  {
   "cell_type": "code",
   "outputs": [
    {
     "name": "stdout",
     "output_type": "stream",
     "text": [
      "14/14 [==============================] - 1s 15ms/step\n"
     ]
    },
    {
     "data": {
      "text/plain": "array([[24.166704],\n       [24.166702],\n       [24.166702],\n       [24.1667  ],\n       [24.1667  ],\n       [24.166698],\n       [24.166697],\n       [24.166697],\n       [24.166697],\n       [24.166697],\n       [24.166697],\n       [24.166697],\n       [24.166697],\n       [24.166697],\n       [24.166693],\n       [24.166693],\n       [24.166693],\n       [24.166693],\n       [24.16669 ],\n       [24.16669 ],\n       [24.166693],\n       [24.166693],\n       [24.166693],\n       [24.166689],\n       [24.166689],\n       [24.166689],\n       [24.166689],\n       [24.16669 ],\n       [24.166693],\n       [24.166693],\n       [24.166693],\n       [24.1667  ],\n       [24.1667  ],\n       [24.1667  ],\n       [24.1667  ],\n       [24.1667  ],\n       [24.166702],\n       [24.166702],\n       [24.166702],\n       [24.166706],\n       [24.166706],\n       [24.166706],\n       [24.166708],\n       [24.166708],\n       [24.166708],\n       [24.166708],\n       [24.166708],\n       [24.166706],\n       [24.166704],\n       [24.166702],\n       [24.1667  ],\n       [24.1667  ],\n       [24.166698],\n       [24.166698],\n       [24.1667  ],\n       [24.166698],\n       [24.166697],\n       [24.166697],\n       [24.166695],\n       [24.166695],\n       [24.166693],\n       [24.166697],\n       [24.166693],\n       [24.166693],\n       [24.166693],\n       [24.166693],\n       [24.166693],\n       [24.166693],\n       [24.166693],\n       [24.166693],\n       [24.166693],\n       [24.166693],\n       [24.166693],\n       [24.166693],\n       [24.16669 ],\n       [24.16669 ],\n       [24.166693],\n       [24.166689],\n       [24.166693],\n       [24.166689],\n       [24.166689],\n       [24.166689],\n       [24.166689],\n       [24.166689],\n       [24.166689],\n       [24.166689],\n       [24.166687],\n       [24.166689],\n       [24.166689],\n       [24.166693],\n       [24.166693],\n       [24.166693],\n       [24.166693],\n       [24.166693],\n       [24.166693],\n       [24.166689],\n       [24.166689],\n       [24.16669 ],\n       [24.166689],\n       [24.166689],\n       [24.166689],\n       [24.166685],\n       [24.166685],\n       [24.166689],\n       [24.166689],\n       [24.166689],\n       [24.166689],\n       [24.166689],\n       [24.166689],\n       [24.166689],\n       [24.166689],\n       [24.166685],\n       [24.166685],\n       [24.166685],\n       [24.166681],\n       [24.166677],\n       [24.166677],\n       [24.166677],\n       [24.166677],\n       [24.166677],\n       [24.166677],\n       [24.166677],\n       [24.166677],\n       [24.166677],\n       [24.166677],\n       [24.166677],\n       [24.166677],\n       [24.166677],\n       [24.166674],\n       [24.166674],\n       [24.166676],\n       [24.166676],\n       [24.166674],\n       [24.16667 ],\n       [24.166674],\n       [24.16667 ],\n       [24.16667 ],\n       [24.166666],\n       [24.166664],\n       [24.166664],\n       [24.166664],\n       [24.166662],\n       [24.166662],\n       [24.166658],\n       [24.166658],\n       [24.166656],\n       [24.166655],\n       [24.166653],\n       [24.16665 ],\n       [24.16665 ],\n       [24.16665 ],\n       [24.16665 ],\n       [24.166641],\n       [24.166637],\n       [24.166634],\n       [24.166634],\n       [24.16663 ],\n       [24.166624],\n       [24.166622],\n       [24.166618],\n       [24.166613],\n       [24.166609],\n       [24.166603],\n       [24.1666  ],\n       [24.166595],\n       [24.166594],\n       [24.166594],\n       [24.16659 ],\n       [24.166584],\n       [24.166582],\n       [24.166574],\n       [24.166569],\n       [24.166567],\n       [24.166569],\n       [24.166567],\n       [24.16656 ],\n       [24.166552],\n       [24.166548],\n       [24.166544],\n       [24.16653 ],\n       [24.166525],\n       [24.166513],\n       [24.1665  ],\n       [24.166487],\n       [24.166473],\n       [24.166464],\n       [24.166452],\n       [24.16644 ],\n       [24.166426],\n       [24.166409],\n       [24.166393],\n       [24.166376],\n       [24.166363],\n       [24.166342],\n       [24.16633 ],\n       [24.166313],\n       [24.166302],\n       [24.16629 ],\n       [24.166271],\n       [24.166254],\n       [24.166235],\n       [24.166227],\n       [24.16622 ],\n       [24.166208],\n       [24.166193],\n       [24.166185],\n       [24.166176],\n       [24.166168],\n       [24.16616 ],\n       [24.166166],\n       [24.166157],\n       [24.166142],\n       [24.166134],\n       [24.166142],\n       [24.166145],\n       [24.166136],\n       [24.166126],\n       [24.166117],\n       [24.166115],\n       [24.16611 ],\n       [24.16611 ],\n       [24.166098],\n       [24.166094],\n       [24.16609 ],\n       [24.166094],\n       [24.166086],\n       [24.166086],\n       [24.16609 ],\n       [24.16611 ],\n       [24.16613 ],\n       [24.166136],\n       [24.166162],\n       [24.166182],\n       [24.166162],\n       [24.166162],\n       [24.166147],\n       [24.166151],\n       [24.166155],\n       [24.166191],\n       [24.166185],\n       [24.166197],\n       [24.166243],\n       [24.166233],\n       [24.166277],\n       [24.166296],\n       [24.16632 ],\n       [24.166344],\n       [24.166384],\n       [24.166424],\n       [24.166424],\n       [24.16643 ],\n       [24.166424],\n       [24.166431],\n       [24.166431],\n       [24.166433],\n       [24.166452],\n       [24.166464],\n       [24.166475],\n       [24.166462],\n       [24.16646 ],\n       [24.166449],\n       [24.16644 ],\n       [24.166428],\n       [24.166405],\n       [24.166391],\n       [24.166372],\n       [24.166368],\n       [24.166368],\n       [24.166376],\n       [24.166372],\n       [24.166372],\n       [24.16636 ],\n       [24.166353],\n       [24.166353],\n       [24.166342],\n       [24.166325],\n       [24.16632 ],\n       [24.16631 ],\n       [24.1663  ],\n       [24.166286],\n       [24.166275],\n       [24.166258],\n       [24.166243],\n       [24.166233],\n       [24.166231],\n       [24.166225],\n       [24.166222],\n       [24.166212],\n       [24.166204],\n       [24.166193],\n       [24.166187],\n       [24.16618 ],\n       [24.166176],\n       [24.166172],\n       [24.166168],\n       [24.166164],\n       [24.166157],\n       [24.166151],\n       [24.16614 ],\n       [24.166138],\n       [24.166126],\n       [24.166117],\n       [24.166098],\n       [24.166079],\n       [24.16608 ],\n       [24.166075],\n       [24.166063],\n       [24.166048],\n       [24.166039],\n       [24.166029],\n       [24.166023],\n       [24.166012],\n       [24.165998],\n       [24.16599 ],\n       [24.165983],\n       [24.165985],\n       [24.165976],\n       [24.165968],\n       [24.16596 ],\n       [24.165956],\n       [24.165943],\n       [24.165937],\n       [24.165926],\n       [24.165916],\n       [24.16591 ],\n       [24.165907],\n       [24.165895],\n       [24.165892],\n       [24.165888],\n       [24.165888],\n       [24.165876],\n       [24.165874],\n       [24.165869],\n       [24.16588 ],\n       [24.16588 ],\n       [24.165874],\n       [24.165873],\n       [24.165869],\n       [24.165861],\n       [24.165834],\n       [24.165813],\n       [24.1658  ],\n       [24.165792],\n       [24.165781],\n       [24.16578 ],\n       [24.165771],\n       [24.165775],\n       [24.165766],\n       [24.165756],\n       [24.165752],\n       [24.16575 ],\n       [24.165745],\n       [24.16574 ],\n       [24.165731],\n       [24.165716],\n       [24.165707],\n       [24.1657  ],\n       [24.165695],\n       [24.165693],\n       [24.165691],\n       [24.16568 ],\n       [24.165668],\n       [24.165668],\n       [24.165678],\n       [24.16568 ],\n       [24.165695],\n       [24.16569 ],\n       [24.165693],\n       [24.165695],\n       [24.165691],\n       [24.165688],\n       [24.165691],\n       [24.165695],\n       [24.165703],\n       [24.165697],\n       [24.165691],\n       [24.165699],\n       [24.165697],\n       [24.165691],\n       [24.16568 ],\n       [24.165678],\n       [24.165674],\n       [24.16567 ],\n       [24.165672],\n       [24.165667],\n       [24.16567 ],\n       [24.165667],\n       [24.165665],\n       [24.165659],\n       [24.165646],\n       [24.165644],\n       [24.165644],\n       [24.16564 ],\n       [24.165642],\n       [24.165646],\n       [24.165644],\n       [24.165642],\n       [24.165642],\n       [24.165646],\n       [24.165646],\n       [24.165642],\n       [24.16565 ],\n       [24.165646],\n       [24.165655],\n       [24.165657],\n       [24.165657],\n       [24.16565 ],\n       [24.16564 ],\n       [24.165636],\n       [24.165638],\n       [24.165642],\n       [24.165634],\n       [24.165632],\n       [24.165632],\n       [24.165628],\n       [24.165628],\n       [24.165632],\n       [24.165632],\n       [24.165634],\n       [24.165644],\n       [24.165646],\n       [24.165644],\n       [24.165642],\n       [24.165638],\n       [24.165627],\n       [24.165623],\n       [24.165623],\n       [24.165623],\n       [24.165619],\n       [24.165617],\n       [24.16562 ],\n       [24.165619],\n       [24.165619],\n       [24.165619],\n       [24.165607],\n       [24.165604],\n       [24.1656  ],\n       [24.1656  ],\n       [24.165598],\n       [24.16559 ],\n       [24.165588],\n       [24.165586],\n       [24.165579],\n       [24.165577]], dtype=float32)"
     },
     "execution_count": 11,
     "metadata": {},
     "output_type": "execute_result"
    }
   ],
   "source": [
    "predicted_prices = model.predict(X_test)\n",
    "\n",
    "# If you've scaled your data, don't forget to inverse the scaling to interpret the predictions\n",
    "predicted_prices \n",
    "# If you've scaled your data, don't forget to inverse the scaling to interpret the predictions\n"
   ],
   "metadata": {
    "collapsed": false,
    "ExecuteTime": {
     "end_time": "2024-02-13T18:15:15.926781Z",
     "start_time": "2024-02-13T18:15:15.161244Z"
    }
   },
   "id": "fcc722e3a82241df",
   "execution_count": 11
  },
  {
   "cell_type": "code",
   "outputs": [
    {
     "data": {
      "text/plain": "[<matplotlib.lines.Line2D at 0x292398df0>]"
     },
     "execution_count": 12,
     "metadata": {},
     "output_type": "execute_result"
    },
    {
     "data": {
      "text/plain": "<Figure size 640x480 with 1 Axes>",
      "image/png": "[encoded data removed]"
     },
     "metadata": {},
     "output_type": "display_data"
    }
   ],
   "source": [
    "import matplotlib.pyplot as plt\n",
    "plt.plot(y_test, color='red', label='test')\n",
    "plt.plot(predicted_prices, color='blue',label='prediction')"
   ],
   "metadata": {
    "collapsed": false,
    "ExecuteTime": {
     "end_time": "2024-02-13T18:15:16.376371Z",
     "start_time": "2024-02-13T18:15:15.897059Z"
    }
   },
   "id": "a1713bf7d70be55a",
   "execution_count": 12
  },
  {
   "cell_type": "code",
   "outputs": [
    {
     "data": {
      "text/plain": "(444, 1)"
     },
     "execution_count": 13,
     "metadata": {},
     "output_type": "execute_result"
    }
   ],
   "source": [
    "predicted_prices.shape"
   ],
   "metadata": {
    "collapsed": false,
    "ExecuteTime": {
     "end_time": "2024-02-13T18:15:16.376860Z",
     "start_time": "2024-02-13T18:15:16.370972Z"
    }
   },
   "id": "ad9e569b96b57fbd",
   "execution_count": 13
  },
  {
   "cell_type": "code",
   "outputs": [
    {
     "name": "stdout",
     "output_type": "stream",
     "text": [
      "/Users/minsokkwon/Documents/python/stock_analysis/stock_analysis/src\n"
     ]
    },
    {
     "ename": "OSError",
     "evalue": "No file or directory found at ./models/\"AAPL",
     "output_type": "error",
     "traceback": [
      "\u001B[0;31m---------------------------------------------------------------------------\u001B[0m",
      "\u001B[0;31mOSError\u001B[0m                                   Traceback (most recent call last)",
      "Cell \u001B[0;32mIn[14], line 5\u001B[0m\n\u001B[1;32m      2\u001B[0m \u001B[38;5;28;01mimport\u001B[39;00m \u001B[38;5;21;01mos\u001B[39;00m\n\u001B[1;32m      3\u001B[0m \u001B[38;5;28mprint\u001B[39m(os\u001B[38;5;241m.\u001B[39mgetcwd())\n\u001B[0;32m----> 5\u001B[0m new_model \u001B[38;5;241m=\u001B[39m \u001B[43mload_model\u001B[49m\u001B[43m(\u001B[49m\u001B[38;5;124;43m'\u001B[39;49m\u001B[38;5;124;43m./models/\u001B[39;49m\u001B[38;5;124;43m\"\u001B[39;49m\u001B[38;5;124;43mAAPL\u001B[39;49m\u001B[38;5;124;43m'\u001B[39;49m\u001B[43m)\u001B[49m\n",
      "File \u001B[0;32m~/Documents/python/stock_analysis/stock_analysis/venv/lib/python3.9/site-packages/keras/src/saving/saving_api.py:262\u001B[0m, in \u001B[0;36mload_model\u001B[0;34m(filepath, custom_objects, compile, safe_mode, **kwargs)\u001B[0m\n\u001B[1;32m    254\u001B[0m     \u001B[38;5;28;01mreturn\u001B[39;00m saving_lib\u001B[38;5;241m.\u001B[39mload_model(\n\u001B[1;32m    255\u001B[0m         filepath,\n\u001B[1;32m    256\u001B[0m         custom_objects\u001B[38;5;241m=\u001B[39mcustom_objects,\n\u001B[1;32m    257\u001B[0m         \u001B[38;5;28mcompile\u001B[39m\u001B[38;5;241m=\u001B[39m\u001B[38;5;28mcompile\u001B[39m,\n\u001B[1;32m    258\u001B[0m         safe_mode\u001B[38;5;241m=\u001B[39msafe_mode,\n\u001B[1;32m    259\u001B[0m     )\n\u001B[1;32m    261\u001B[0m \u001B[38;5;66;03m# Legacy case.\u001B[39;00m\n\u001B[0;32m--> 262\u001B[0m \u001B[38;5;28;01mreturn\u001B[39;00m \u001B[43mlegacy_sm_saving_lib\u001B[49m\u001B[38;5;241;43m.\u001B[39;49m\u001B[43mload_model\u001B[49m\u001B[43m(\u001B[49m\n\u001B[1;32m    263\u001B[0m \u001B[43m    \u001B[49m\u001B[43mfilepath\u001B[49m\u001B[43m,\u001B[49m\u001B[43m \u001B[49m\u001B[43mcustom_objects\u001B[49m\u001B[38;5;241;43m=\u001B[39;49m\u001B[43mcustom_objects\u001B[49m\u001B[43m,\u001B[49m\u001B[43m \u001B[49m\u001B[38;5;28;43mcompile\u001B[39;49m\u001B[38;5;241;43m=\u001B[39;49m\u001B[38;5;28;43mcompile\u001B[39;49m\u001B[43m,\u001B[49m\u001B[43m \u001B[49m\u001B[38;5;241;43m*\u001B[39;49m\u001B[38;5;241;43m*\u001B[39;49m\u001B[43mkwargs\u001B[49m\n\u001B[1;32m    264\u001B[0m \u001B[43m\u001B[49m\u001B[43m)\u001B[49m\n",
      "File \u001B[0;32m~/Documents/python/stock_analysis/stock_analysis/venv/lib/python3.9/site-packages/keras/src/utils/traceback_utils.py:70\u001B[0m, in \u001B[0;36mfilter_traceback.<locals>.error_handler\u001B[0;34m(*args, **kwargs)\u001B[0m\n\u001B[1;32m     67\u001B[0m     filtered_tb \u001B[38;5;241m=\u001B[39m _process_traceback_frames(e\u001B[38;5;241m.\u001B[39m__traceback__)\n\u001B[1;32m     68\u001B[0m     \u001B[38;5;66;03m# To get the full stack trace, call:\u001B[39;00m\n\u001B[1;32m     69\u001B[0m     \u001B[38;5;66;03m# `tf.debugging.disable_traceback_filtering()`\u001B[39;00m\n\u001B[0;32m---> 70\u001B[0m     \u001B[38;5;28;01mraise\u001B[39;00m e\u001B[38;5;241m.\u001B[39mwith_traceback(filtered_tb) \u001B[38;5;28;01mfrom\u001B[39;00m \u001B[38;5;28;01mNone\u001B[39;00m\n\u001B[1;32m     71\u001B[0m \u001B[38;5;28;01mfinally\u001B[39;00m:\n\u001B[1;32m     72\u001B[0m     \u001B[38;5;28;01mdel\u001B[39;00m filtered_tb\n",
      "File \u001B[0;32m~/Documents/python/stock_analysis/stock_analysis/venv/lib/python3.9/site-packages/keras/src/saving/legacy/save.py:234\u001B[0m, in \u001B[0;36mload_model\u001B[0;34m(filepath, custom_objects, compile, options)\u001B[0m\n\u001B[1;32m    232\u001B[0m \u001B[38;5;28;01mif\u001B[39;00m \u001B[38;5;28misinstance\u001B[39m(filepath_str, \u001B[38;5;28mstr\u001B[39m):\n\u001B[1;32m    233\u001B[0m     \u001B[38;5;28;01mif\u001B[39;00m \u001B[38;5;129;01mnot\u001B[39;00m tf\u001B[38;5;241m.\u001B[39mio\u001B[38;5;241m.\u001B[39mgfile\u001B[38;5;241m.\u001B[39mexists(filepath_str):\n\u001B[0;32m--> 234\u001B[0m         \u001B[38;5;28;01mraise\u001B[39;00m \u001B[38;5;167;01mIOError\u001B[39;00m(\n\u001B[1;32m    235\u001B[0m             \u001B[38;5;124mf\u001B[39m\u001B[38;5;124m\"\u001B[39m\u001B[38;5;124mNo file or directory found at \u001B[39m\u001B[38;5;132;01m{\u001B[39;00mfilepath_str\u001B[38;5;132;01m}\u001B[39;00m\u001B[38;5;124m\"\u001B[39m\n\u001B[1;32m    236\u001B[0m         )\n\u001B[1;32m    238\u001B[0m     \u001B[38;5;28;01mif\u001B[39;00m tf\u001B[38;5;241m.\u001B[39mio\u001B[38;5;241m.\u001B[39mgfile\u001B[38;5;241m.\u001B[39misdir(filepath_str):\n\u001B[1;32m    239\u001B[0m         \u001B[38;5;28;01mreturn\u001B[39;00m saved_model_load\u001B[38;5;241m.\u001B[39mload(\n\u001B[1;32m    240\u001B[0m             filepath_str, \u001B[38;5;28mcompile\u001B[39m, options\n\u001B[1;32m    241\u001B[0m         )\n",
      "\u001B[0;31mOSError\u001B[0m: No file or directory found at ./models/\"AAPL"
     ]
    }
   ],
   "source": [
    "from keras.models import load_model\n",
    "import os\n",
    "print(os.getcwd())\n",
    "\n",
    "new_model = load_model('./models/\"AAPL')"
   ],
   "metadata": {
    "collapsed": false,
    "ExecuteTime": {
     "end_time": "2024-02-13T18:15:16.642762Z",
     "start_time": "2024-02-13T18:15:16.377928Z"
    }
   },
   "id": "c7f92a71dcfe6c67",
   "execution_count": 14
  },
  {
   "cell_type": "code",
   "outputs": [],
   "source": [
    "import os\n",
    "\n",
    "import numpy as np\n",
    "import pandas as pd\n",
    "import tensorflow as tf\n",
    "from tensorflow.keras.models import Sequential\n",
    "from dataclasses import dataclass\n",
    "from tensorflow.keras.layers import Dropout, LSTM, Dense\n",
    "from src.logger import logging\n",
    "from src.utils import evaluate_model\n",
    "from src.utils import plot_prediction\n",
    "from src.exception_handler import CustomException\n",
    "from sklearn.preprocessing import MinMaxScaler"
   ],
   "metadata": {
    "collapsed": false,
    "ExecuteTime": {
     "end_time": "2024-02-13T18:45:34.337269Z",
     "start_time": "2024-02-13T18:45:34.300144Z"
    }
   },
   "id": "fb741c92c1ec0465",
   "execution_count": 22
  },
  {
   "cell_type": "code",
   "outputs": [
    {
     "name": "stdout",
     "output_type": "stream",
     "text": [
      "/Users/minsokkwon/Documents/python/stock_analysis/stock_analysis/src\n"
     ]
    }
   ],
   "source": [
    "print(os.getcwd())"
   ],
   "metadata": {
    "collapsed": false,
    "ExecuteTime": {
     "end_time": "2024-02-13T18:47:08.638444Z",
     "start_time": "2024-02-13T18:47:08.619101Z"
    }
   },
   "id": "48a7b2911a096ef6",
   "execution_count": 24
  },
  {
   "cell_type": "code",
   "outputs": [
    {
     "name": "stdout",
     "output_type": "stream",
     "text": [
      "Epoch 1/20\n",
      "61/61 - 5s - loss: 0.0087 - r2_score: 0.8418 - 5s/epoch - 74ms/step\n",
      "Epoch 2/20\n",
      "61/61 - 3s - loss: 9.0822e-04 - r2_score: 0.9835 - 3s/epoch - 51ms/step\n",
      "Epoch 3/20\n",
      "61/61 - 3s - loss: 8.1545e-04 - r2_score: 0.9852 - 3s/epoch - 51ms/step\n",
      "Epoch 4/20\n",
      "61/61 - 3s - loss: 8.2847e-04 - r2_score: 0.9850 - 3s/epoch - 53ms/step\n",
      "Epoch 5/20\n",
      "61/61 - 3s - loss: 7.1798e-04 - r2_score: 0.9870 - 3s/epoch - 51ms/step\n",
      "Epoch 1/20\n",
      "61/61 - 4s - loss: 0.0123 - r2_score: 0.7762 - 4s/epoch - 71ms/step\n",
      "Epoch 2/20\n",
      "61/61 - 3s - loss: 8.8279e-04 - r2_score: 0.9840 - 3s/epoch - 51ms/step\n",
      "Epoch 3/20\n",
      "61/61 - 3s - loss: 8.4168e-04 - r2_score: 0.9847 - 3s/epoch - 51ms/step\n",
      "Epoch 4/20\n",
      "61/61 - 3s - loss: 8.4576e-04 - r2_score: 0.9847 - 3s/epoch - 51ms/step\n",
      "Epoch 5/20\n",
      "61/61 - 3s - loss: 7.4563e-04 - r2_score: 0.9865 - 3s/epoch - 51ms/step\n"
     ]
    }
   ],
   "source": [
    "\n",
    "from src.data_management.model_trainer import ModelTrainerConfig, ModelTrainer, split_Xy\n",
    "from src.utils import evaluate_model , plot_prediction\n",
    "model_trainer_config = ModelTrainerConfig()\n",
    "model_train  = ModelTrainer(\"AAPL\")\n",
    "model  = model_train.train_model(epochs = 20)\n"
   ],
   "metadata": {
    "collapsed": false,
    "ExecuteTime": {
     "end_time": "2024-02-13T18:48:29.626001Z",
     "start_time": "2024-02-13T18:47:55.711318Z"
    }
   },
   "id": "4fa1d634492024da",
   "execution_count": 25
  },
  {
   "cell_type": "code",
   "outputs": [
    {
     "ename": "NameError",
     "evalue": "name 'split_Xy' is not defined",
     "output_type": "error",
     "traceback": [
      "\u001B[0;31m---------------------------------------------------------------------------\u001B[0m",
      "\u001B[0;31mNameError\u001B[0m                                 Traceback (most recent call last)",
      "Cell \u001B[0;32mIn[17], line 1\u001B[0m\n\u001B[0;32m----> 1\u001B[0m X_train, y_train \u001B[38;5;241m=\u001B[39m \u001B[43msplit_Xy\u001B[49m(model_train\u001B[38;5;241m.\u001B[39mtrain_df, window_size \u001B[38;5;241m=\u001B[39m \u001B[38;5;241m60\u001B[39m)\n\u001B[1;32m      2\u001B[0m X_test , y_test \u001B[38;5;241m=\u001B[39m split_Xy(model_train\u001B[38;5;241m.\u001B[39mtest_df , window_size\u001B[38;5;241m=\u001B[39m \u001B[38;5;241m60\u001B[39m)\n",
      "\u001B[0;31mNameError\u001B[0m: name 'split_Xy' is not defined"
     ]
    }
   ],
   "source": [
    "X_train, y_train = split_Xy(model_train.train_df, window_size = 60)\n",
    "X_test , y_test = split_Xy(model_train.test_df , window_size= 60)"
   ],
   "metadata": {
    "collapsed": false,
    "ExecuteTime": {
     "end_time": "2024-02-13T18:20:27.747247Z",
     "start_time": "2024-02-13T18:20:27.724542Z"
    }
   },
   "id": "568e81f4954c991a",
   "execution_count": 17
  },
  {
   "cell_type": "code",
   "outputs": [],
   "source": [
    "prediction = model.predict(X_test)\n",
    "plot_prediction(model_train.scaler.inverse_transform(y_test), model_train.scaler.inverse_transform(prediction))"
   ],
   "metadata": {
    "collapsed": false,
    "ExecuteTime": {
     "start_time": "2024-02-13T18:15:16.627180Z"
    }
   },
   "id": "358b67ea7710d43c",
   "execution_count": null
  },
  {
   "cell_type": "markdown",
   "source": [],
   "metadata": {
    "collapsed": false
   },
   "id": "c36210e59f6e1bf0"
  },
  {
   "cell_type": "code",
   "outputs": [
    {
     "ename": "NameError",
     "evalue": "name 'model_train' is not defined",
     "output_type": "error",
     "traceback": [
      "\u001B[0;31m---------------------------------------------------------------------------\u001B[0m",
      "\u001B[0;31mNameError\u001B[0m                                 Traceback (most recent call last)",
      "Cell \u001B[0;32mIn[1], line 1\u001B[0m\n\u001B[0;32m----> 1\u001B[0m scaler \u001B[38;5;241m=\u001B[39m \u001B[43mmodel_train\u001B[49m\u001B[38;5;241m.\u001B[39mscaler\n",
      "\u001B[0;31mNameError\u001B[0m: name 'model_train' is not defined"
     ]
    }
   ],
   "source": [
    "scaler = model_train.scaler"
   ],
   "metadata": {
    "collapsed": false,
    "ExecuteTime": {
     "end_time": "2024-02-13T18:14:29.572840Z",
     "start_time": "2024-02-13T18:14:29.455347Z"
    }
   },
   "id": "6b68e17b89b734cf",
   "execution_count": 1
  },
  {
   "cell_type": "code",
   "outputs": [
    {
     "data": {
      "text/plain": "array([[37.84503555],\n       [34.07539749],\n       [35.530056  ],\n       [35.45097351],\n       [36.12677002],\n       [36.74026108],\n       [36.85770416],\n       [36.49583054],\n       [35.94704056],\n       [36.68276215],\n       [37.13089371],\n       [37.35136795],\n       [37.58143234],\n       [36.73786545],\n       [36.88645554],\n       [36.59407425],\n       [37.80669022],\n       [37.45681381],\n       [37.06858063],\n       [39.60165024],\n       [39.88684082],\n       [39.90600586],\n       [41.03953171],\n       [41.74169922],\n       [41.75608444],\n       [40.96524429],\n       [41.01338196],\n       [40.77751923],\n       [41.12890625],\n       [40.95801926],\n       [41.1072464 ],\n       [41.01577759],\n       [41.13852692],\n       [41.40327454],\n       [41.16981506],\n       [41.62949753],\n       [41.93275833],\n       [41.95682907],\n       [42.08678436],\n       [41.67282104],\n       [42.1108551 ],\n       [42.32264709],\n       [42.24562836],\n       [42.00255203],\n       [41.51638794],\n       [41.61506653],\n       [43.05670547],\n       [43.54045868],\n       [43.73301315],\n       [44.21916199],\n       [44.79437637],\n       [45.25165939],\n       [44.89305115],\n       [45.28535843],\n       [46.95323563],\n       [45.98090363],\n       [45.42494965],\n       [44.95562363],\n       [45.35996628],\n       [45.42012787]])"
     },
     "execution_count": 56,
     "metadata": {},
     "output_type": "execute_result"
    }
   ],
   "source": [
    "X_test[0,:,:]"
   ],
   "metadata": {
    "collapsed": false,
    "ExecuteTime": {
     "end_time": "2024-02-12T05:37:56.657050Z",
     "start_time": "2024-02-12T05:37:56.652049Z"
    }
   },
   "id": "a353e218a4241eb3",
   "execution_count": 56
  },
  {
   "cell_type": "code",
   "outputs": [],
   "source": [],
   "metadata": {
    "collapsed": false
   },
   "id": "a9f3416c6847c9ca"
  }
 ],
 "metadata": {
  "kernelspec": {
   "display_name": "Python 3",
   "language": "python",
   "name": "python3"
  },
  "language_info": {
   "codemirror_mode": {
    "name": "ipython",
    "version": 2
   },
   "file_extension": ".py",
   "mimetype": "text/x-python",
   "name": "python",
   "nbconvert_exporter": "python",
   "pygments_lexer": "ipython2",
   "version": "2.7.6"
  }
 },
 "nbformat": 4,
 "nbformat_minor": 5
}
